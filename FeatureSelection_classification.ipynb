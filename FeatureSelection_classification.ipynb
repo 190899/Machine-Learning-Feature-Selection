{
 "cells": [
  {
   "cell_type": "code",
   "execution_count": 1,
   "id": "19c75884",
   "metadata": {},
   "outputs": [],
   "source": [
    "import pandas as pd\n",
    "import numpy as np\n",
    "import matplotlib.pyplot as plt\n",
    "import pickle\n",
    "from sklearn.model_selection import train_test_split\n",
    "from sklearn.linear_model import LogisticRegression\n",
    "from sklearn.preprocessing import StandardScaler\n",
    "from sklearn.feature_selection import SelectKBest\n",
    "from sklearn.feature_selection import chi2\n",
    "from sklearn.feature_selection import RFE\n",
    "import time"
   ]
  },
  {
   "cell_type": "code",
   "execution_count": 2,
   "id": "8195f616",
   "metadata": {},
   "outputs": [],
   "source": [
    "def selectkbest(indep_x,dep_y,n):\n",
    "    test=SelectKBest(score_func=chi2,k=n)\n",
    "    fit1=test.fit(indep_x,dep_y)\n",
    "    selectk_features=fit1.transform(indep_x)\n",
    "    return selectk_features"
   ]
  },
  {
   "cell_type": "code",
   "execution_count": 3,
   "id": "c1fd2ef6",
   "metadata": {},
   "outputs": [],
   "source": [
    "def split_scaler(indep_x,dep_y):\n",
    "    x_train,x_test,y_train,y_test=train_test_split(indep_x,dep_y,test_size=0.25,random_state=0)\n",
    "    sc=StandardScaler()\n",
    "    x_train=sc.fit_transform(x_train)\n",
    "    x_test=sc.transform(x_test)\n",
    "    return x_train,x_test,y_train,y_test"
   ]
  },
  {
   "cell_type": "code",
   "execution_count": 4,
   "id": "4bcb4b0a",
   "metadata": {},
   "outputs": [],
   "source": [
    "def cm_prediction(classifier,x_test):\n",
    "    y_predict=classifier.predict(x_test)\n",
    "    from sklearn.metrics import confusion_matrix\n",
    "    cm=confusion_matrix(y_test,y_predict)\n",
    "    from sklearn.metrics import accuracy_score\n",
    "    from sklearn.metrics import classification_report\n",
    "    accuracy=accuracy_score(y_test,y_predict)\n",
    "    result=classification_report(y_test,y_predict)\n",
    "    return classifier,accuracy,result,x_test,y_test,cm"
   ]
  },
  {
   "cell_type": "code",
   "execution_count": 5,
   "id": "8136dcbf",
   "metadata": {},
   "outputs": [],
   "source": [
    "def logistic(x_train,y_train,x_test):       \n",
    "        from sklearn.linear_model import LogisticRegression\n",
    "        classifier = LogisticRegression(random_state = 0)\n",
    "        classifier.fit(x_train, y_train)\n",
    "        classifier,accuracy,result,x_test,y_test,cm=cm_prediction(classifier,x_test)\n",
    "        return  classifier,accuracy,result,x_test,y_test,cm      \n",
    "    \n",
    "def svm_linear(x_train,y_train,x_test):\n",
    "                \n",
    "        from sklearn.svm import SVC\n",
    "        classifier = SVC(kernel = 'linear', random_state = 0)\n",
    "        classifier.fit(x_train, y_train)\n",
    "        classifier,accuracy,result,x_test,y_test,cm=cm_prediction(classifier,x_test)\n",
    "        return  classifier,accuracy,result,x_test,y_test,cm\n",
    "    \n",
    "def svm_NL(x_train,y_train,x_test):\n",
    "                \n",
    "        from sklearn.svm import SVC\n",
    "        classifier = SVC(kernel = 'rbf', random_state = 0)\n",
    "        classifier.fit(x_train, y_train)\n",
    "        classifier,accuracy,result,x_test,y_test,cm=cm_prediction(classifier,x_test)\n",
    "        return  classifier,accuracy,result,x_test,y_test,cm\n",
    "    \n",
    "def Navie(x_train,y_train,x_test):       \n",
    "        from sklearn.naive_bayes import GaussianNB\n",
    "        classifier = GaussianNB()\n",
    "        classifier.fit(x_train, y_train)\n",
    "        classifier,accuracy,result,x_test,y_test,cm=cm_prediction(classifier,x_test)\n",
    "        return  classifier,accuracy,result,x_test,y_test,cm         \n",
    "    \n",
    "    \n",
    "def knn(x_train,y_train,x_test):\n",
    "        from sklearn.neighbors import KNeighborsClassifier\n",
    "        classifier = KNeighborsClassifier(n_neighbors = 5, metric = 'minkowski', p = 2)\n",
    "        classifier.fit(x_train, y_train)\n",
    "        classifier,accuracy,result,x_test,y_test,cm=cm_prediction(classifier,x_test)\n",
    "        return  classifier,accuracy,result,x_test,y_test,cm\n",
    "\n",
    "def Decision(x_train,y_train,x_test):\n",
    "        from sklearn.tree import DecisionTreeClassifier\n",
    "        classifier = DecisionTreeClassifier(criterion = 'entropy', random_state = 0)\n",
    "        classifier.fit(x_train, y_train)\n",
    "        classifier,accuracy,result,x_test,y_test,cm=cm_prediction(classifier,x_test)\n",
    "        return  classifier,accuracy,result,x_test,y_test,cm      \n",
    "\n",
    "def random(x_train,y_train,x_test):\n",
    "        from sklearn.ensemble import RandomForestClassifier\n",
    "        classifier = RandomForestClassifier(n_estimators = 10, criterion = 'entropy', random_state = 0)\n",
    "        classifier.fit(x_train, y_train)\n",
    "        classifier,accuracy,result,x_test,y_test,cm=cm_prediction(classifier,x_test)\n",
    "        return  classifier,accuracy,result,x_test,y_test,cm"
   ]
  },
  {
   "cell_type": "code",
   "execution_count": 6,
   "id": "07683132",
   "metadata": {},
   "outputs": [],
   "source": [
    "def selectk_Classification(acclog,accsvml,accsvmnl,accknn,accnav,accdes,accrf): \n",
    "    \n",
    "    dataframe=pd.DataFrame(index=['ChiSquare'],columns=['Logistic','SVMl','SVMnl','KNN','Navie','Decision','Random'])\n",
    "    for number,idex in enumerate(dataframe.index):      \n",
    "        dataframe['Logistic'][idex]=acclog[number]       \n",
    "        dataframe['SVMl'][idex]=accsvml[number]\n",
    "        dataframe['SVMnl'][idex]=accsvmnl[number]\n",
    "        dataframe['KNN'][idex]=accknn[number]\n",
    "        dataframe['Navie'][idex]=accnav[number]\n",
    "        dataframe['Decision'][idex]=accdes[number]\n",
    "        dataframe['Random'][idex]=accrf[number]\n",
    "    return dataframe"
   ]
  },
  {
   "cell_type": "code",
   "execution_count": 7,
   "id": "170b0b48",
   "metadata": {},
   "outputs": [],
   "source": [
    "dataset1=pd.read_csv(\"CKD.csv\",index_col=None)\n",
    "\n",
    "df2=dataset1"
   ]
  },
  {
   "cell_type": "code",
   "execution_count": 8,
   "id": "a22c969e",
   "metadata": {},
   "outputs": [],
   "source": [
    "df2 = pd.get_dummies(df2, drop_first=True)"
   ]
  },
  {
   "cell_type": "code",
   "execution_count": 9,
   "id": "deaf3239",
   "metadata": {},
   "outputs": [],
   "source": [
    "indep_x=df2.drop('classification_yes', axis=1)\n",
    "dep_y=df2['classification_yes']"
   ]
  },
  {
   "cell_type": "code",
   "execution_count": 10,
   "id": "c777ec73",
   "metadata": {},
   "outputs": [],
   "source": [
    "kbest=selectkbest(indep_x,dep_y,5)  "
   ]
  },
  {
   "cell_type": "code",
   "execution_count": 12,
   "id": "3693eda2",
   "metadata": {},
   "outputs": [
    {
     "data": {
      "text/html": [
       "<div>\n",
       "<style scoped>\n",
       "    .dataframe tbody tr th:only-of-type {\n",
       "        vertical-align: middle;\n",
       "    }\n",
       "\n",
       "    .dataframe tbody tr th {\n",
       "        vertical-align: top;\n",
       "    }\n",
       "\n",
       "    .dataframe thead th {\n",
       "        text-align: right;\n",
       "    }\n",
       "</style>\n",
       "<table border=\"1\" class=\"dataframe\">\n",
       "  <thead>\n",
       "    <tr style=\"text-align: right;\">\n",
       "      <th></th>\n",
       "      <th>Logistic</th>\n",
       "      <th>SVMl</th>\n",
       "      <th>SVMnl</th>\n",
       "      <th>KNN</th>\n",
       "      <th>Navie</th>\n",
       "      <th>Decision</th>\n",
       "      <th>Random</th>\n",
       "    </tr>\n",
       "  </thead>\n",
       "  <tbody>\n",
       "    <tr>\n",
       "      <th>ChiSquare</th>\n",
       "      <td>0.94</td>\n",
       "      <td>0.94</td>\n",
       "      <td>0.95</td>\n",
       "      <td>0.89</td>\n",
       "      <td>0.83</td>\n",
       "      <td>0.96</td>\n",
       "      <td>0.95</td>\n",
       "    </tr>\n",
       "  </tbody>\n",
       "</table>\n",
       "</div>"
      ],
      "text/plain": [
       "          Logistic  SVMl SVMnl   KNN Navie Decision Random\n",
       "ChiSquare     0.94  0.94  0.95  0.89  0.83     0.96   0.95"
      ]
     },
     "execution_count": 12,
     "metadata": {},
     "output_type": "execute_result"
    }
   ],
   "source": [
    "acclog=[]\n",
    "accsvml=[]\n",
    "accsvmnl=[]\n",
    "accknn=[]\n",
    "accnav=[]\n",
    "accdes=[]\n",
    "accrf=[]\n",
    "\n",
    "\n",
    "x_train, x_test, y_train, y_test=split_scaler(kbest,dep_y)   \n",
    "    \n",
    "        \n",
    "classifier,accuracy,result,x_test,y_test,cm=logistic(x_train,y_train,x_test)\n",
    "acclog.append(accuracy)\n",
    "\n",
    "classifier,accuracy,result,x_test,y_test,cm=svm_linear(x_train,y_train,x_test)  \n",
    "accsvml.append(accuracy)\n",
    "    \n",
    "classifier,accuracy,result,x_test,y_test,cm=svm_NL(x_train,y_train,x_test)  \n",
    "accsvmnl.append(accuracy)\n",
    "    \n",
    "classifier,accuracy,result,x_test,y_test,cm=knn(x_train,y_train,x_test)  \n",
    "accknn.append(accuracy)\n",
    "    \n",
    "classifier,accuracy,result,x_test,y_test,cm=Navie(x_train,y_train,x_test)  \n",
    "accnav.append(accuracy)\n",
    "    \n",
    "classifier,accuracy,result,x_test,y_test,cm=Decision(x_train,y_train,x_test)  \n",
    "accdes.append(accuracy)\n",
    "    \n",
    "classifier,accuracy,result,x_test,y_test,cm=random(x_train,y_train,x_test)  \n",
    "accrf.append(accuracy)\n",
    "    \n",
    "result=selectk_Classification(acclog,accsvml,accsvmnl,accknn,accnav,accdes,accrf)\n",
    "\n",
    "result"
   ]
  },
  {
   "cell_type": "code",
   "execution_count": null,
   "id": "111fd42e",
   "metadata": {},
   "outputs": [],
   "source": []
  }
 ],
 "metadata": {
  "kernelspec": {
   "display_name": "Python 3 (ipykernel)",
   "language": "python",
   "name": "python3"
  },
  "language_info": {
   "codemirror_mode": {
    "name": "ipython",
    "version": 3
   },
   "file_extension": ".py",
   "mimetype": "text/x-python",
   "name": "python",
   "nbconvert_exporter": "python",
   "pygments_lexer": "ipython3",
   "version": "3.11.5"
  }
 },
 "nbformat": 4,
 "nbformat_minor": 5
}
